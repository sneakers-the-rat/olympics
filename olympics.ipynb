{
 "cells": [
  {
   "cell_type": "code",
   "execution_count": 1,
   "metadata": {},
   "outputs": [
    {
     "data": {
      "text/plain": [
       "RendererRegistry.enable('notebook')"
      ]
     },
     "execution_count": 1,
     "metadata": {},
     "output_type": "execute_result"
    }
   ],
   "source": [
    "import os\n",
    "from glob import glob\n",
    "\n",
    "import numpy as np\n",
    "import pandas as pd\n",
    "\n",
    "import altair as alt\n",
    "from ipywidgets import interact, fixed\n",
    "\n",
    "from tqdm import tqdm, trange\n",
    "\n",
    "# tell plotting library not to try and hold everything in memory\n",
    "alt.data_transformers.enable('json')\n",
    "# and let it render good\n",
    "alt.renderers.enable('notebook')"
   ]
  },
  {
   "cell_type": "code",
   "execution_count": 2,
   "metadata": {},
   "outputs": [],
   "source": [
    "\n",
    "def load(type, melt=False):\n",
    "    if type not in ['sports', 'events']:\n",
    "        print('type can be either \\'sports\\' or \\'events\\'')\n",
    "        return\n",
    "\n",
    "    sport_fn = glob('json/{}/*.json'.format(type))\n",
    "    sport_name = [s.split(os.sep)[-1].split('.')[0].capitalize() for s in sport_fn]\n",
    "\n",
    "    data = {}\n",
    "    for fn, sport in tqdm(zip(sport_fn, sport_name), total=len(sport_fn), desc=\"Loading {}\".format(type)):\n",
    "        if melt:\n",
    "            temp = pd.read_json(fn)\n",
    "            #columns = [c for c in temp.columns if e not in ['name', 'country', 'event', 'note','phase','season','sport','unit']]\n",
    "            #print(columns)\n",
    "            id_vars = [var for var in ['name', 'country', 'event', 'note','phase','season','sport','unit','year']\n",
    "                   if var in temp.columns]\n",
    "            data[sport] = temp.melt(id_vars=id_vars)\n",
    "            data[sport]['value'] = pd.to_numeric(data[sport]['value'], errors='coerce')\n",
    "        else:\n",
    "            data[sport] = pd.read_json(fn)\n",
    "\n",
    "    return data"
   ]
  },
  {
   "cell_type": "code",
   "execution_count": 3,
   "metadata": {},
   "outputs": [
    {
     "name": "stderr",
     "output_type": "stream",
     "text": [
      "Loading events: 100%|██████████| 686/686 [01:13<00:00,  8.69it/s]\n"
     ]
    }
   ],
   "source": [
    "events = load('events', melt=True)"
   ]
  },
  {
   "cell_type": "code",
   "execution_count": 55,
   "metadata": {},
   "outputs": [
    {
     "data": {
      "text/html": [
       "<div>\n",
       "<style scoped>\n",
       "    .dataframe tbody tr th:only-of-type {\n",
       "        vertical-align: middle;\n",
       "    }\n",
       "\n",
       "    .dataframe tbody tr th {\n",
       "        vertical-align: top;\n",
       "    }\n",
       "\n",
       "    .dataframe thead th {\n",
       "        text-align: right;\n",
       "    }\n",
       "</style>\n",
       "<table border=\"1\" class=\"dataframe\">\n",
       "  <thead>\n",
       "    <tr style=\"text-align: right;\">\n",
       "      <th></th>\n",
       "      <th>name</th>\n",
       "      <th>country</th>\n",
       "      <th>event</th>\n",
       "      <th>note</th>\n",
       "      <th>phase</th>\n",
       "      <th>season</th>\n",
       "      <th>sport</th>\n",
       "      <th>unit</th>\n",
       "      <th>year</th>\n",
       "      <th>variable</th>\n",
       "      <th>value</th>\n",
       "    </tr>\n",
       "  </thead>\n",
       "  <tbody>\n",
       "    <tr>\n",
       "      <th>0</th>\n",
       "      <td>albert rowland</td>\n",
       "      <td>australasia</td>\n",
       "      <td>men's 10 mile walk</td>\n",
       "      <td>None</td>\n",
       "      <td>round one</td>\n",
       "      <td>summer</td>\n",
       "      <td>athletics</td>\n",
       "      <td>heat one</td>\n",
       "      <td>1908</td>\n",
       "      <td>age</td>\n",
       "      <td>22</td>\n",
       "    </tr>\n",
       "    <tr>\n",
       "      <th>1</th>\n",
       "      <td>arne hãjme</td>\n",
       "      <td>denmark</td>\n",
       "      <td>men's 10 mile walk</td>\n",
       "      <td>dnf</td>\n",
       "      <td>round one</td>\n",
       "      <td>summer</td>\n",
       "      <td>athletics</td>\n",
       "      <td>heat one</td>\n",
       "      <td>1908</td>\n",
       "      <td>age</td>\n",
       "      <td>23</td>\n",
       "    </tr>\n",
       "    <tr>\n",
       "      <th>2</th>\n",
       "      <td>piet ruimers</td>\n",
       "      <td>netherlands</td>\n",
       "      <td>men's 10 mile walk</td>\n",
       "      <td>None</td>\n",
       "      <td>round one</td>\n",
       "      <td>summer</td>\n",
       "      <td>athletics</td>\n",
       "      <td>heat two</td>\n",
       "      <td>1908</td>\n",
       "      <td>age</td>\n",
       "      <td>23</td>\n",
       "    </tr>\n",
       "    <tr>\n",
       "      <th>3</th>\n",
       "      <td>piet soudyn</td>\n",
       "      <td>netherlands</td>\n",
       "      <td>men's 10 mile walk</td>\n",
       "      <td>dnf</td>\n",
       "      <td>round one</td>\n",
       "      <td>summer</td>\n",
       "      <td>athletics</td>\n",
       "      <td>heat one</td>\n",
       "      <td>1908</td>\n",
       "      <td>age</td>\n",
       "      <td>28</td>\n",
       "    </tr>\n",
       "    <tr>\n",
       "      <th>4</th>\n",
       "      <td>ralph harrison</td>\n",
       "      <td>great britain</td>\n",
       "      <td>men's 10 mile walk</td>\n",
       "      <td>qu</td>\n",
       "      <td>round one</td>\n",
       "      <td>summer</td>\n",
       "      <td>athletics</td>\n",
       "      <td>heat two</td>\n",
       "      <td>1908</td>\n",
       "      <td>age</td>\n",
       "      <td>NaN</td>\n",
       "    </tr>\n",
       "  </tbody>\n",
       "</table>\n",
       "</div>"
      ],
      "text/plain": [
       "             name        country               event  note      phase  season  \\\n",
       "0  albert rowland    australasia  men's 10 mile walk  None  round one  summer   \n",
       "1     arne hãjme        denmark  men's 10 mile walk   dnf  round one  summer   \n",
       "2    piet ruimers    netherlands  men's 10 mile walk  None  round one  summer   \n",
       "3     piet soudyn    netherlands  men's 10 mile walk   dnf  round one  summer   \n",
       "4  ralph harrison  great britain  men's 10 mile walk    qu  round one  summer   \n",
       "\n",
       "       sport      unit  year variable value  \n",
       "0  athletics  heat one  1908      age    22  \n",
       "1  athletics  heat one  1908      age    23  \n",
       "2  athletics  heat two  1908      age    23  \n",
       "3  athletics  heat one  1908      age    28  \n",
       "4  athletics  heat two  1908      age   NaN  "
      ]
     },
     "execution_count": 55,
     "metadata": {},
     "output_type": "execute_result"
    }
   ],
   "source": [
    "events[events.keys()[10]].head()\n",
    "#events[events.keys()[0]]['variable'].unique()"
   ]
  },
  {
   "cell_type": "code",
   "execution_count": 32,
   "metadata": {},
   "outputs": [
    {
     "data": {
      "text/plain": [
       "['value']"
      ]
     },
     "execution_count": 32,
     "metadata": {},
     "output_type": "execute_result"
    }
   ],
   "source": []
  },
  {
   "cell_type": "code",
   "execution_count": 92,
   "metadata": {},
   "outputs": [],
   "source": [
    "def event_viewer(data, event):\n",
    "    data = data[event]\n",
    "    \n",
    "    # w.r.t. jakevdp @ https://github.com/altair-viz/altair/issues/965#issuecomment-399773773\n",
    "    select_box = alt.binding_select(options=list(data['variable'].unique()))\n",
    "    \n",
    "    selection = alt.selection_single(name=\"y_axis\", fields=['variable'], bind=select_box)\n",
    "    \n",
    "    country_select = alt.selection_multi(fields=['country'])\n",
    "    color = alt.condition(country_select,\n",
    "                      alt.Color('country:N', legend=None),\n",
    "                      alt.value('lightgray'))\n",
    "    \n",
    "    \n",
    "    legend = alt.Chart(data).mark_point().encode(\n",
    "        y=alt.Y('country:N', axis=alt.Axis(orient='right')),\n",
    "        color=color\n",
    "    ).add_selection(\n",
    "        country_select\n",
    "    )\n",
    "    \n",
    "    scales = alt.selection_interval(bind='scales')\n",
    "    \n",
    "    #slider = alt.binding_range(min=1900, max=2014, step=2)\n",
    "    #select_year = alt.selection_single(name=\"year\", fields=['year'], bind=slider)\n",
    "        \n",
    "    chart = alt.Chart(data).mark_circle().encode(\n",
    "        x=alt.X('year:Q',scale=alt.Scale(domain=[1900,2014])),\n",
    "        y='value:Q',\n",
    "        color=color,\n",
    "        tooltip='name:N'\n",
    "    ).add_selection(\n",
    "        selection\n",
    "    ).add_selection(\n",
    "        scales\n",
    "    ).transform_filter(\n",
    "        selection\n",
    "    ).properties(\n",
    "        width = 700,\n",
    "        height = 500,)\n",
    "    return chart | legend"
   ]
  },
  {
   "cell_type": "code",
   "execution_count": 93,
   "metadata": {},
   "outputs": [
    {
     "data": {
      "application/vnd.jupyter.widget-view+json": {
       "model_id": "c03810cbeae04965acf90fbf7cd395b7",
       "version_major": 2,
       "version_minor": 0
      },
      "text/plain": [
       "aW50ZXJhY3RpdmUoY2hpbGRyZW49KERyb3Bkb3duKGRlc2NyaXB0aW9uPXUnZXZlbnQnLCBvcHRpb25zPSgiQWxwaW5lIHNraWluZy1tZW4ncyBkb3duaGlsbCIsICJBbHBpbmUgc2tpaW5nLW3igKY=\n"
      ]
     },
     "metadata": {},
     "output_type": "display_data"
    }
   ],
   "source": [
    "interact(event_viewer, event = sorted(events.keys()), data=fixed(events));"
   ]
  },
  {
   "cell_type": "code",
   "execution_count": null,
   "metadata": {},
   "outputs": [],
   "source": []
  }
 ],
 "metadata": {
  "kernelspec": {
   "display_name": "Python 2",
   "language": "python",
   "name": "python2"
  },
  "language_info": {
   "codemirror_mode": {
    "name": "ipython",
    "version": 2
   },
   "file_extension": ".py",
   "mimetype": "text/x-python",
   "name": "python",
   "nbconvert_exporter": "python",
   "pygments_lexer": "ipython2",
   "version": "2.7.15"
  }
 },
 "nbformat": 4,
 "nbformat_minor": 2
}
